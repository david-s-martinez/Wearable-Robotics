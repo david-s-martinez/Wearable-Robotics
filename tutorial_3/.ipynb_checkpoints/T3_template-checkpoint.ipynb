{
 "cells": [
  {
   "cell_type": "markdown",
   "id": "ec4d811c-bb5e-4bfd-ad46-758e73d47d52",
   "metadata": {},
   "source": [
    "# Tutorial 3"
   ]
  },
  {
   "cell_type": "code",
   "execution_count": 14,
   "id": "dfed048d-c6af-44d3-b086-e88a2655c10a",
   "metadata": {},
   "outputs": [],
   "source": [
    "import sympy as s \n",
    "from sympy.abc import x\n",
    "import math \n",
    "import numpy as np\n",
    "import matplotlib.pyplot as plt \n",
    "import plot_utils as pu # Make sure that your path is in the same folder! \n",
    "import importlib\n",
    "import time\n",
    "importlib.reload(pu)\n",
    "\n",
    "from sympy.physics.vector import dynamicsymbols, init_vprinting # our symbols will be dynamic ones :) \n",
    "init_vprinting() # start newton notation\n",
    "\n",
    "%matplotlib widget"
   ]
  },
  {
   "cell_type": "markdown",
   "id": "c16a4aa4-06a1-443d-aa80-0200a5317ae2",
   "metadata": {},
   "source": [
    "## Jacobians\n",
    "1. Bring back your 3DOF model from T1. But this time reduce it to only 1DOF (elbow flexion and extension)"
   ]
  },
  {
   "cell_type": "code",
   "execution_count": 15,
   "id": "2e56fc57-3fa4-4fce-91fd-8f079b008aa1",
   "metadata": {
    "tags": []
   },
   "outputs": [
    {
     "data": {
      "application/vnd.jupyter.widget-view+json": {
       "model_id": "48a82c02d3404f70a181ec0f5a86f939",
       "version_major": 2,
       "version_minor": 0
      },
      "image/png": "[encoded data removed]",
      "text/plain": [
       "Canvas(toolbar=Toolbar(toolitems=[('Home', 'Reset original view', 'home', 'home'), ('Back', 'Back to previous …"
      ]
     },
     "metadata": {},
     "output_type": "display_data"
    }
   ],
   "source": [
    "L1_ = #Distance from your shoulder to your elbow [m]\n",
    "L2_ = #Distance from your elbow to your wrist [m]\n",
    "L3_ = #Distance from your wrist to the middle of your palm [m]\n",
    "\n",
    "H0_w = \n",
    "\n",
    "pi = s.pi\n",
    "q1= dynamicsymbols('q1', real=True)\n",
    "t = s.Symbol('t')\n",
    "L1,L2,L3= s.symbols('L1 L2 L3', real=True)\n",
    "\n",
    "# DH Table [theta|d|a|alpha] \n",
    "D = \n",
    "\n",
    "\n",
    "#relH[0] = H1_0\n",
    "#relH[1] = H2_1\n",
    "#relH[2] = H3_2\n",
    "relH = \n",
    "\n",
    "#absH[0] = H1_0\n",
    "#absH[1] = H2_0\n",
    "#absH[2] = H3_0\n",
    "absH = \n",
    "\n",
    "#wH[0] = H1_w\n",
    "#wH[1] = H2_w\n",
    "#wH[2] = H3_w\n",
    "wH = \n",
    "\n",
    "# change the angles \n",
    "H_list=[]\n",
    "H = s.lambdify((x),s.Matrix(H0_w),modules=\"numpy\")\n",
    "H_list.append(H(0))\n",
    "for wH_ in wH:\n",
    "    H = s.lambdify((q1,L1,L2,L3,pi),wH_,modules=\"numpy\")\n",
    "    L1_ = 0.32\n",
    "    L2_ = 0.32\n",
    "    L3_ = 0.07\n",
    "    q1_ = np.radians(90)\n",
    "    H_list.append(H(q1_,L1_,L2_,L3_,np.pi))    \n",
    "\n",
    "pu.plotTrans(H_list)"
   ]
  },
  {
   "cell_type": "markdown",
   "id": "1b37797f-7020-432a-85fc-3840c7827501",
   "metadata": {},
   "source": [
    "2. Calculate your DH table and homogeneous transformation to the center of mass. Assume the center of mass of the fore and upper arm are in the middle, and the center of mass of the hand is in the middle of the palm (same position as the end effector)"
   ]
  },
  {
   "cell_type": "code",
   "execution_count": 16,
   "id": "164688ae-fc18-4281-9b13-6854bf833bc0",
   "metadata": {},
   "outputs": [],
   "source": [
    "# calc Dcm \n",
    "L4 = \n",
    "L5 = \n",
    "L6 = \n",
    "    \n",
    "# DH Table [theta|d|a|alpha] \n",
    "Dcm = \n",
    "\n",
    "#relHcm[0] = H1cm_0\n",
    "#relHcm[1] = H2cm_1\n",
    "#relHcm[2] = H3cm_2\n",
    "relHcm = \n",
    "\n",
    "def calcTransformationAbsCM(absH,Hcm):\n",
    "    absHcm = []\n",
    "    for i in range (0,len(Hcm)):\n",
    "        if(i==0):\n",
    "            absHcm.append(Hcm[i])\n",
    "        else:\n",
    "            absH_tmp = #to Do\n",
    "            absH_tmp=s.simplify(absH_tmp)\n",
    "            absHcm.append(absH_tmp)\n",
    "    return absHcm\n",
    "\n",
    "#absHcm[0] = H1cm_0\n",
    "#absHcm[1] = H2cm_0\n",
    "#absHcm[2] = H3cm_0\n",
    "absHcm = calcTransformationAbsCM(absH, relHcm)\n",
    "\n",
    "#wHcm[0] = H1cm_w\n",
    "#wHcm[1] = H2cm_w\n",
    "#wHcm[2] = H3cm_w\n",
    "wHcm = "
   ]
  },
  {
   "cell_type": "markdown",
   "id": "18aa4a72-1f8c-49d4-8bdb-d3b58dc9863a",
   "metadata": {},
   "source": [
    "3. Calculate your Jacobians for the end effector and each center of mass"
   ]
  },
  {
   "cell_type": "code",
   "execution_count": 33,
   "id": "6033777a-4c88-4e4b-9312-0ef4ed91d022",
   "metadata": {},
   "outputs": [
    {
     "name": "stdout",
     "output_type": "stream",
     "text": [
      "⎡  -L₂⋅sin(q₁(t))  ⎤\n",
      "⎢                  ⎥\n",
      "⎢L₁ + L₂⋅cos(q₁(t))⎥\n",
      "⎢                  ⎥\n",
      "⎢        0         ⎥\n",
      "⎢                  ⎥\n",
      "⎢        0         ⎥\n",
      "⎢                  ⎥\n",
      "⎢        0         ⎥\n",
      "⎢                  ⎥\n",
      "⎣        1         ⎦\n",
      "⎡0 ⎤\n",
      "⎢  ⎥\n",
      "⎢L₁⎥\n",
      "⎢──⎥\n",
      "⎢2 ⎥\n",
      "⎢  ⎥\n",
      "⎢0 ⎥\n",
      "⎢  ⎥\n",
      "⎢0 ⎥\n",
      "⎢  ⎥\n",
      "⎢0 ⎥\n",
      "⎢  ⎥\n",
      "⎣1 ⎦\n",
      "⎡ -L₂⋅sin(q₁(t))   ⎤\n",
      "⎢ ───────────────  ⎥\n",
      "⎢        2         ⎥\n",
      "⎢                  ⎥\n",
      "⎢     L₂⋅cos(q₁(t))⎥\n",
      "⎢L₁ + ─────────────⎥\n",
      "⎢           2      ⎥\n",
      "⎢                  ⎥\n",
      "⎢        0         ⎥\n",
      "⎢                  ⎥\n",
      "⎢        0         ⎥\n",
      "⎢                  ⎥\n",
      "⎢        0         ⎥\n",
      "⎢                  ⎥\n",
      "⎣        1         ⎦\n",
      "⎡      -(L₂ + L₃)⋅sin(q₁(t))       ⎤\n",
      "⎢                                  ⎥\n",
      "⎢L₁ + L₂⋅cos(q₁(t)) + L₃⋅cos(q₁(t))⎥\n",
      "⎢                                  ⎥\n",
      "⎢                0                 ⎥\n",
      "⎢                                  ⎥\n",
      "⎢                0                 ⎥\n",
      "⎢                                  ⎥\n",
      "⎢                0                 ⎥\n",
      "⎢                                  ⎥\n",
      "⎣                1                 ⎦\n"
     ]
    }
   ],
   "source": [
    "z0 = s.Matrix([[0],[0],[1]])\n",
    "# z1 = R1_0*z0\n",
    "z1 = absH[0][0:3,0:3]*z0 \n",
    "# z2 = R2_0*z0\n",
    "z2 = absH[1][0:3,0:3]*z0 \n",
    "\n",
    "#[z1x(t2_0);z1].T\n",
    "J2_0 = s.simplify(s.Matrix() # for 1DOF \n",
    "s.pprint(J2_0)\n",
    "\n",
    "\n",
    "Jcm1_0 = \n",
    "s.pprint(Jcm1_0)\n",
    "\n",
    "\n",
    "Jcm2_0 = \n",
    "s.pprint(Jcm2_0)\n",
    "\n",
    "\n",
    "Jcm3_0 = \n",
    "s.pprint(Jcm3_0)"
   ]
  },
  {
   "cell_type": "markdown",
   "id": "23a8c368-11bb-4f69-a0b3-941ea6ff846d",
   "metadata": {},
   "source": [
    "## Dynamic Model "
   ]
  },
  {
   "cell_type": "markdown",
   "id": "d035e99d-d3b2-43fc-9356-caa861ca864a",
   "metadata": {},
   "source": [
    "4. Compute the inertia matrix M(q)"
   ]
  },
  {
   "cell_type": "code",
   "execution_count": 35,
   "id": "2b6c1ac6-9537-45d0-840e-7bd257c52552",
   "metadata": {},
   "outputs": [
    {
     "data": {
      "text/latex": [
       "$\\displaystyle \\left[\\begin{matrix}I_{233} + L_{1}^{2} m_{2} + L_{1} L_{2} m_{2} \\cos{\\left(q_{1} \\right)} + \\frac{L_{2}^{2} m_{2}}{4}\\end{matrix}\\right]$"
      ],
      "text/plain": [
       "⎡                                     2   ⎤\n",
       "⎢         2                         L₂ ⋅m₂⎥\n",
       "⎢I₂₃₃ + L₁ ⋅m₂ + L₁⋅L₂⋅m₂⋅cos(q₁) + ──────⎥\n",
       "⎣                                     4   ⎦"
      ]
     },
     "execution_count": 35,
     "metadata": {},
     "output_type": "execute_result"
    }
   ],
   "source": [
    "m1,m2,m3= s.symbols('m1 m2 m3', real=True)\n",
    "I111,I122,I133= s.symbols('I111 I122 I133', real=True)\n",
    "I211,I222,I233= s.symbols('I211 I222 I233', real=True)\n",
    "I311,I322,I333= s.symbols('I311 I322 I333', real=True)\n",
    "\n",
    "Icm1 = s.Matrix([[I111,0,0],\n",
    "                 [0,I122,0],\n",
    "                 [0,0,I133]])\n",
    "\n",
    "Icm2 = s.Matrix([[I211,0,0],\n",
    "                 [0,I222,0],\n",
    "                 [0,0,I233]])\n",
    "\n",
    "Icm3 = s.Matrix([[I311,0,0],\n",
    "                 [0,I322,0],\n",
    "                 [0,0,I333]])\n",
    "\n",
    "M = s.simplify()\n",
    "M"
   ]
  },
  {
   "cell_type": "markdown",
   "id": "5d53228c-050b-4f7a-a73a-cdc2a0105f3d",
   "metadata": {},
   "source": [
    "5. Compute the maxtrix of Coriolis and Centripetal effects"
   ]
  },
  {
   "cell_type": "code",
   "execution_count": 36,
   "id": "2924931e-7c47-4d9c-b93f-1e957751c9ce",
   "metadata": {},
   "outputs": [
    {
     "data": {
      "text/latex": [
       "$\\displaystyle \\left[\\begin{matrix}- 1.5 L_{1} L_{2} m_{2} \\sin{\\left(q_{1} \\right)} \\dot{q}_{1}\\end{matrix}\\right]$"
      ],
      "text/plain": [
       "[-1.5⋅L₁⋅L₂⋅m₂⋅sin(q₁)⋅q₁̇]"
      ]
     },
     "execution_count": 36,
     "metadata": {},
     "output_type": "execute_result"
    }
   ],
   "source": [
    "C"
   ]
  },
  {
   "cell_type": "markdown",
   "id": "d47861f4-49f4-4ea3-929b-27523f829680",
   "metadata": {},
   "source": [
    "6. Compute the vector of graviational torques G(q)"
   ]
  },
  {
   "cell_type": "code",
   "execution_count": 11,
   "id": "4bdb6ba2-936c-46a2-9799-57a004709f1a",
   "metadata": {},
   "outputs": [
    {
     "data": {
      "image/png": "[encoded data removed]",
      "text/latex": [
       "$\\displaystyle - gx m_{2} \\left(L_{2} + L_{3}\\right) \\sin{\\left(q_{1} \\right)} + gy m_{2} \\left(L_{2} + L_{3}\\right) \\cos{\\left(q_{1} \\right)} - 1.0 k_{1} \\left(\\theta_{1} - q_{1}\\right)$"
      ],
      "text/plain": [
       "-gx⋅m₂⋅(L₂ + L₃)⋅sin(q₁) + gy⋅m₂⋅(L₂ + L₃)⋅cos(q₁) - k₁⋅(θ₁ - q₁)"
      ]
     },
     "execution_count": 11,
     "metadata": {},
     "output_type": "execute_result"
    }
   ],
   "source": [
    "g,gx,gy,gz = s.symbols('g gx gy gz', real=True)\n",
    "gVector = s.Matrix([[gx],[gy],[gz]])\n",
    "k1,theta1,b1 = s.symbols('k1 theta1 b1', real=True)\n",
    "\n",
    "P = 0\n",
    "G = 0\n",
    "P = \n",
    "G = P.diff(q1)    \n",
    "G = s.simplify(G)\n",
    "G\n",
    "#NOTE: The result of G is wrong in the notebook. The correct one is in correctionGVector.png"
   ]
  },
  {
   "cell_type": "markdown",
   "id": "5508f060-7cd5-4200-aa89-637e41124128",
   "metadata": {},
   "source": [
    "7. Calculate B vector "
   ]
  },
  {
   "cell_type": "code",
   "execution_count": 37,
   "id": "13a648a4-e698-446a-990b-9fbb09c33c12",
   "metadata": {},
   "outputs": [
    {
     "data": {
      "image/png": "[encoded data removed]",
      "text/latex": [
       "$\\displaystyle 1.0 b_{1} \\dot{q}_{1}$"
      ],
      "text/plain": [
       "1.0⋅b₁⋅q₁̇"
      ]
     },
     "execution_count": 37,
     "metadata": {},
     "output_type": "execute_result"
    }
   ],
   "source": [
    "D = 0\n",
    "B = s.zeros(1,1)\n",
    "D = \n",
    "B = s.simplify(D.diff(q1.diff()))\n",
    "B "
   ]
  },
  {
   "cell_type": "markdown",
   "id": "6e5e8115-8f7e-4f25-bdbc-dabddf783f1b",
   "metadata": {},
   "source": [
    "Let's move now to our ros w_s "
   ]
  }
 ],
 "metadata": {
  "kernelspec": {
   "display_name": "Python 3",
   "language": "python",
   "name": "python3"
  },
  "language_info": {
   "codemirror_mode": {
    "name": "ipython",
    "version": 3
   },
   "file_extension": ".py",
   "mimetype": "text/x-python",
   "name": "python",
   "nbconvert_exporter": "python",
   "pygments_lexer": "ipython3",
   "version": "3.8.10"
  }
 },
 "nbformat": 4,
 "nbformat_minor": 5
}
