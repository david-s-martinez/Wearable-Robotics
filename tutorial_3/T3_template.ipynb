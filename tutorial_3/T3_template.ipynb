{
 "cells": [
  {
   "cell_type": "markdown",
   "id": "ec4d811c-bb5e-4bfd-ad46-758e73d47d52",
   "metadata": {},
   "source": [
    "# Tutorial 3"
   ]
  },
  {
   "cell_type": "code",
   "execution_count": 43,
   "id": "dfed048d-c6af-44d3-b086-e88a2655c10a",
   "metadata": {},
   "outputs": [],
   "source": [
    "import sympy as s \n",
    "from sympy.abc import x\n",
    "import math \n",
    "import numpy as np\n",
    "import matplotlib.pyplot as plt \n",
    "import plot_utils as pu # Make sure that your path is in the same folder! \n",
    "import importlib\n",
    "import time\n",
    "importlib.reload(pu)\n",
    "\n",
    "from sympy.physics.vector import dynamicsymbols, init_vprinting # our symbols will be dynamic ones :) \n",
    "init_vprinting() # start newton notation\n",
    "\n",
    "%matplotlib widget"
   ]
  },
  {
   "cell_type": "markdown",
   "id": "c16a4aa4-06a1-443d-aa80-0200a5317ae2",
   "metadata": {},
   "source": [
    "## Jacobians\n",
    "1. Bring back your 3DOF model from T1. But this time reduce it to only 1DOF (elbow flexion and extension)"
   ]
  },
  {
   "cell_type": "code",
   "execution_count": 44,
   "id": "080b5a9b",
   "metadata": {},
   "outputs": [],
   "source": [
    "cos = lambda deg : np.cos(np.radians(deg))\n",
    "sin = lambda deg : np.sin(np.radians(deg))\n",
    "\n",
    "rot_x = lambda a: np.array([[ 1, 0, 0], \n",
    "                 [ 0, cos(a), -sin(a)],\n",
    "                 [ 0, sin(a), cos(a)]]) \n",
    "rot_y = lambda b: np.array([[ cos(b), 0, sin(b)], \n",
    "                [ 0, 1, 0],\n",
    "                [ -sin(b), 0, cos(b)]]) \n",
    "rot_z = lambda c: np.array([[ cos(c), -sin(c), 0], \n",
    "                [ sin(c), cos(c), 0],\n",
    "                [ 0, 0, 0]])"
   ]
  },
  {
   "cell_type": "code",
   "execution_count": 45,
   "id": "41f0c260",
   "metadata": {},
   "outputs": [],
   "source": [
    "L1_ = 0.4 #Distance from your shoulder to your elbow [m]\n",
    "L2_ = 0.3 #Distance from your elbow to your wrist [m]\n",
    "L3_ = 0.1 #Distance from your wrist to the middle of your palm [m]\n",
    "\n",
    "q0__ = -90.0\n",
    "q1__= 45.0\n",
    "q2__= 0.0\n",
    "q3__= 0.0\n",
    "H_temp = np.array([[0.0, 0.0, 0.0, 0.0],\n",
    "                 [0.0, 0.0, 0.0, 0.0],\n",
    "                 [0.0, 0.0, 0.0, 0.0],\n",
    "                 [0.0, 0.0, 0.0, 1.0]])\n",
    "\n",
    "#------------- From world frame to joint 0----------------------\n",
    "H0_w = H_temp.copy()\n",
    "tvec_0_w = np.array([[0.0], \n",
    "                    [0.0], \n",
    "                    [L1_+L2_+L3_]])\n",
    "\n",
    "rot_0_w = rot_x(90)@rot_z(q0__)\n",
    "H0_w[:3,:] = np.append(rot_0_w, tvec_0_w, axis=1)[:,:]\n",
    "\n",
    "pi = s.pi\n",
    "q1= dynamicsymbols('q1', real=True)\n",
    "t = s.Symbol('t')\n",
    "L1,L2,L3= s.symbols('L1 L2 L3', real=True)\n",
    "# DH Table [theta|d|a|alpha] \n",
    "D = s.Matrix([[0, 0, L1, 0], \\\n",
    "              [q1, 0, L2, 0], \\\n",
    "              [0, 0, L3, 0]])"
   ]
  },
  {
   "cell_type": "code",
   "execution_count": 46,
   "id": "2e56fc57-3fa4-4fce-91fd-8f079b008aa1",
   "metadata": {
    "tags": []
   },
   "outputs": [],
   "source": [
    "\n",
    "def calcTransformation(D):\n",
    "    H = []\n",
    "    for i in range(0,D.shape[0]):\n",
    "        Hrel = s.Matrix([\n",
    "            [s.cos(D[i,0]), -1*s.sin(D[i,0])*s.cos(D[i,3]), s.sin(D[i,0])*s.sin(D[i,3]), D[i,2]*s.cos(D[i,0])],\\\n",
    "            [s.sin(D[i,0]), s.cos(D[i,0])*s.cos(D[i,3]) , -1*s.cos(D[i,0])*s.sin(D[i,3]), D[i,2]*s.sin(D[i,0])],\\\n",
    "            [0, s.sin(D[i,3]) , s.cos(D[i,3]), D[i,1]],\\\n",
    "            [0,0,0,1]])\n",
    "        Hrel=s.simplify(Hrel)\n",
    "        H.append(Hrel)\n",
    "    return H\n",
    "\n",
    "#relH[0] = H1_0\n",
    "#relH[1] = H2_1\n",
    "#relH[2] = H3_2\n",
    "relH = calcTransformation(D)\n",
    "def calcTransformationAbs(H):\n",
    "    absH = []\n",
    "    for i in range (0,len(H)):\n",
    "        # append first abs transformation to list\n",
    "        if(i==0):\n",
    "            H[i] = s.simplify(H[i])\n",
    "            absH.append(H[i])\n",
    "        else:\n",
    "            #matmul previous absH with current H \n",
    "            absH_tmp = absH[i-1]*H[i]\n",
    "            absH_tmp=s.simplify(absH_tmp)\n",
    "            absH.append(absH_tmp)\n",
    "    return absH\n",
    "\n",
    "#absH[0] = H1_0\n",
    "#absH[1] = H2_0\n",
    "#absH[2] = H3_0\n",
    "absH = calcTransformationAbs(relH)\n",
    "# absH\n",
    "def calcTransformationWorld(H0_w,H):\n",
    "    wH = []\n",
    "    for i in range(0,len(H)):\n",
    "        wH_temp = H0_w*H[i]\n",
    "        wH_temp = s.simplify(wH_temp)\n",
    "        wH.append(wH_temp)\n",
    "    return wH\n",
    "\n",
    "#wH[0] = H1_w\n",
    "#wH[1] = H2_w\n",
    "#wH[2] = H3_w\n",
    "wH = calcTransformationWorld(H0_w, absH)"
   ]
  },
  {
   "cell_type": "code",
   "execution_count": 47,
   "id": "0fe08099",
   "metadata": {},
   "outputs": [
    {
     "data": {
      "text/latex": [
       "$\\displaystyle \\left[ \\left[\\begin{matrix}1 & 0 & 0 & L_{1}\\\\0 & 1 & 0 & 0\\\\0 & 0 & 1 & 0\\\\0 & 0 & 0 & 1\\end{matrix}\\right], \\  \\left[\\begin{matrix}\\cos{\\left(q_{1} \\right)} & - \\sin{\\left(q_{1} \\right)} & 0 & L_{2} \\cos{\\left(q_{1} \\right)}\\\\\\sin{\\left(q_{1} \\right)} & \\cos{\\left(q_{1} \\right)} & 0 & L_{2} \\sin{\\left(q_{1} \\right)}\\\\0 & 0 & 1 & 0\\\\0 & 0 & 0 & 1\\end{matrix}\\right], \\  \\left[\\begin{matrix}1 & 0 & 0 & L_{3}\\\\0 & 1 & 0 & 0\\\\0 & 0 & 1 & 0\\\\0 & 0 & 0 & 1\\end{matrix}\\right]\\right]$"
      ],
      "text/plain": [
       "⎡⎡1  0  0  L₁⎤  ⎡cos(q₁)  -sin(q₁)  0  L₂⋅cos(q₁)⎤  ⎡1  0  0  L₃⎤⎤\n",
       "⎢⎢           ⎥  ⎢                                ⎥  ⎢           ⎥⎥\n",
       "⎢⎢0  1  0  0 ⎥  ⎢sin(q₁)  cos(q₁)   0  L₂⋅sin(q₁)⎥  ⎢0  1  0  0 ⎥⎥\n",
       "⎢⎢           ⎥, ⎢                                ⎥, ⎢           ⎥⎥\n",
       "⎢⎢0  0  1  0 ⎥  ⎢   0        0      1      0     ⎥  ⎢0  0  1  0 ⎥⎥\n",
       "⎢⎢           ⎥  ⎢                                ⎥  ⎢           ⎥⎥\n",
       "⎣⎣0  0  0  1 ⎦  ⎣   0        0      0      1     ⎦  ⎣0  0  0  1 ⎦⎦"
      ]
     },
     "execution_count": 47,
     "metadata": {},
     "output_type": "execute_result"
    }
   ],
   "source": [
    "relH"
   ]
  },
  {
   "cell_type": "code",
   "execution_count": 48,
   "id": "d9f0007b",
   "metadata": {},
   "outputs": [
    {
     "data": {
      "text/latex": [
       "$\\displaystyle \\left[ \\left[\\begin{matrix}1 & 0 & 0 & L_{1}\\\\0 & 1 & 0 & 0\\\\0 & 0 & 1 & 0\\\\0 & 0 & 0 & 1\\end{matrix}\\right], \\  \\left[\\begin{matrix}\\cos{\\left(q_{1} \\right)} & - \\sin{\\left(q_{1} \\right)} & 0 & L_{1} + L_{2} \\cos{\\left(q_{1} \\right)}\\\\\\sin{\\left(q_{1} \\right)} & \\cos{\\left(q_{1} \\right)} & 0 & L_{2} \\sin{\\left(q_{1} \\right)}\\\\0 & 0 & 1 & 0\\\\0 & 0 & 0 & 1\\end{matrix}\\right], \\  \\left[\\begin{matrix}\\cos{\\left(q_{1} \\right)} & - \\sin{\\left(q_{1} \\right)} & 0 & L_{1} + L_{2} \\cos{\\left(q_{1} \\right)} + L_{3} \\cos{\\left(q_{1} \\right)}\\\\\\sin{\\left(q_{1} \\right)} & \\cos{\\left(q_{1} \\right)} & 0 & \\left(L_{2} + L_{3}\\right) \\sin{\\left(q_{1} \\right)}\\\\0 & 0 & 1 & 0\\\\0 & 0 & 0 & 1\\end{matrix}\\right]\\right]$"
      ],
      "text/plain": [
       "⎡⎡1  0  0  L₁⎤  ⎡cos(q₁)  -sin(q₁)  0  L₁ + L₂⋅cos(q₁)⎤  ⎡cos(q₁)  -sin(q₁)  0\n",
       "⎢⎢           ⎥  ⎢                                     ⎥  ⎢                    \n",
       "⎢⎢0  1  0  0 ⎥  ⎢sin(q₁)  cos(q₁)   0    L₂⋅sin(q₁)   ⎥  ⎢sin(q₁)  cos(q₁)   0\n",
       "⎢⎢           ⎥, ⎢                                     ⎥, ⎢                    \n",
       "⎢⎢0  0  1  0 ⎥  ⎢   0        0      1         0       ⎥  ⎢   0        0      1\n",
       "⎢⎢           ⎥  ⎢                                     ⎥  ⎢                    \n",
       "⎣⎣0  0  0  1 ⎦  ⎣   0        0      0         1       ⎦  ⎣   0        0      0\n",
       "\n",
       "  L₁ + L₂⋅cos(q₁) + L₃⋅cos(q₁)⎤⎤\n",
       "                              ⎥⎥\n",
       "       (L₂ + L₃)⋅sin(q₁)      ⎥⎥\n",
       "                              ⎥⎥\n",
       "               0              ⎥⎥\n",
       "                              ⎥⎥\n",
       "               1              ⎦⎦"
      ]
     },
     "execution_count": 48,
     "metadata": {},
     "output_type": "execute_result"
    }
   ],
   "source": [
    "absH"
   ]
  },
  {
   "cell_type": "code",
   "execution_count": 49,
   "id": "096c2410",
   "metadata": {},
   "outputs": [
    {
     "data": {
      "text/latex": [
       "$\\displaystyle \\left[ \\left[\\begin{matrix}6.12323399573677 \\cdot 10^{-17} & 1.0 & 0 & 6.12323399573677 \\cdot 10^{-17} L_{1}\\\\-6.12323399573677 \\cdot 10^{-17} & 3.74939945665464 \\cdot 10^{-33} & 0 & - 6.12323399573677 \\cdot 10^{-17} L_{1}\\\\-1.0 & 6.12323399573677 \\cdot 10^{-17} & 0 & 0.8 - 1.0 L_{1}\\\\0 & 0 & 0 & 1.0\\end{matrix}\\right], \\  \\left[\\begin{matrix}1.0 \\sin{\\left(q_{1} \\right)} + 6.12323399573677 \\cdot 10^{-17} \\cos{\\left(q_{1} \\right)} & - 6.12323399573677 \\cdot 10^{-17} \\sin{\\left(q_{1} \\right)} + 1.0 \\cos{\\left(q_{1} \\right)} & 0 & 6.12323399573677 \\cdot 10^{-17} L_{1} + 1.0 L_{2} \\sin{\\left(q_{1} \\right)} + 6.12323399573677 \\cdot 10^{-17} L_{2} \\cos{\\left(q_{1} \\right)}\\\\3.74939945665464 \\cdot 10^{-33} \\sin{\\left(q_{1} \\right)} - 6.12323399573677 \\cdot 10^{-17} \\cos{\\left(q_{1} \\right)} & 6.12323399573677 \\cdot 10^{-17} \\sin{\\left(q_{1} \\right)} + 3.74939945665464 \\cdot 10^{-33} \\cos{\\left(q_{1} \\right)} & 0 & - 6.12323399573677 \\cdot 10^{-17} L_{1} + 3.74939945665464 \\cdot 10^{-33} L_{2} \\sin{\\left(q_{1} \\right)} - 6.12323399573677 \\cdot 10^{-17} L_{2} \\cos{\\left(q_{1} \\right)}\\\\6.12323399573677 \\cdot 10^{-17} \\sin{\\left(q_{1} \\right)} - 1.0 \\cos{\\left(q_{1} \\right)} & 1.0 \\sin{\\left(q_{1} \\right)} + 6.12323399573677 \\cdot 10^{-17} \\cos{\\left(q_{1} \\right)} & 0 & - 1.0 L_{1} + 6.12323399573677 \\cdot 10^{-17} L_{2} \\sin{\\left(q_{1} \\right)} - 1.0 L_{2} \\cos{\\left(q_{1} \\right)} + 0.8\\\\0 & 0 & 0 & 1.0\\end{matrix}\\right], \\  \\left[\\begin{matrix}1.0 \\sin{\\left(q_{1} \\right)} + 6.12323399573677 \\cdot 10^{-17} \\cos{\\left(q_{1} \\right)} & - 6.12323399573677 \\cdot 10^{-17} \\sin{\\left(q_{1} \\right)} + 1.0 \\cos{\\left(q_{1} \\right)} & 0 & 6.12323399573677 \\cdot 10^{-17} L_{1} + 6.12323399573677 \\cdot 10^{-17} L_{2} \\cos{\\left(q_{1} \\right)} + 6.12323399573677 \\cdot 10^{-17} L_{3} \\cos{\\left(q_{1} \\right)} + 1.0 \\left(L_{2} + L_{3}\\right) \\sin{\\left(q_{1} \\right)}\\\\3.74939945665464 \\cdot 10^{-33} \\sin{\\left(q_{1} \\right)} - 6.12323399573677 \\cdot 10^{-17} \\cos{\\left(q_{1} \\right)} & 6.12323399573677 \\cdot 10^{-17} \\sin{\\left(q_{1} \\right)} + 3.74939945665464 \\cdot 10^{-33} \\cos{\\left(q_{1} \\right)} & 0 & - 6.12323399573677 \\cdot 10^{-17} L_{1} - 6.12323399573677 \\cdot 10^{-17} L_{2} \\cos{\\left(q_{1} \\right)} - 6.12323399573677 \\cdot 10^{-17} L_{3} \\cos{\\left(q_{1} \\right)} + 3.74939945665464 \\cdot 10^{-33} \\left(L_{2} + L_{3}\\right) \\sin{\\left(q_{1} \\right)}\\\\6.12323399573677 \\cdot 10^{-17} \\sin{\\left(q_{1} \\right)} - 1.0 \\cos{\\left(q_{1} \\right)} & 1.0 \\sin{\\left(q_{1} \\right)} + 6.12323399573677 \\cdot 10^{-17} \\cos{\\left(q_{1} \\right)} & 0 & - 1.0 L_{1} - 1.0 L_{2} \\cos{\\left(q_{1} \\right)} - 1.0 L_{3} \\cos{\\left(q_{1} \\right)} + 6.12323399573677 \\cdot 10^{-17} \\left(L_{2} + L_{3}\\right) \\sin{\\left(q_{1} \\right)} + 0.8\\\\0 & 0 & 0 & 1.0\\end{matrix}\\right]\\right]$"
      ],
      "text/plain": [
       "⎡⎡6.12323399573677e-17           1.0           0  6.12323399573677e-17⋅L₁ ⎤  ⎡\n",
       "⎢⎢                                                                        ⎥  ⎢\n",
       "⎢⎢-6.12323399573677e-17  3.74939945665464e-33  0  -6.12323399573677e-17⋅L₁⎥  ⎢\n",
       "⎢⎢                                                                        ⎥, ⎢\n",
       "⎢⎢        -1.0           6.12323399573677e-17  0          0.8 - L₁        ⎥  ⎢\n",
       "⎢⎢                                                                        ⎥  ⎢\n",
       "⎣⎣          0                     0            0            1.0           ⎦  ⎣\n",
       "\n",
       "        1.0⋅sin(q₁) + 6.12323399573677e-17⋅cos(q₁)                   -6.123233\n",
       "                                                                              \n",
       "3.74939945665464e-33⋅sin(q₁) - 6.12323399573677e-17⋅cos(q₁)  6.12323399573677e\n",
       "                                                                              \n",
       "          6.12323399573677e-17⋅sin(q₁) - cos(q₁)                     1.0⋅sin(q\n",
       "                                                                              \n",
       "                             0                                                \n",
       "\n",
       "99573677e-17⋅sin(q₁) + 1.0⋅cos(q₁)          0           6.12323399573677e-17⋅L\n",
       "                                                                              \n",
       "-17⋅sin(q₁) + 3.74939945665464e-33⋅cos(q₁)  0  -6.12323399573677e-17⋅L₁ + 3.74\n",
       "                                                                              \n",
       "₁) + 6.12323399573677e-17⋅cos(q₁)           0                    -L₁ + 6.12323\n",
       "                                                                              \n",
       "            0                               0                                 \n",
       "\n",
       "₁ + 1.0⋅L₂⋅sin(q₁) + 6.12323399573677e-17⋅L₂⋅cos(q₁)         ⎤  ⎡        1.0⋅s\n",
       "                                                             ⎥  ⎢             \n",
       "939945665464e-33⋅L₂⋅sin(q₁) - 6.12323399573677e-17⋅L₂⋅cos(q₁)⎥  ⎢3.74939945665\n",
       "                                                             ⎥, ⎢             \n",
       "399573677e-17⋅L₂⋅sin(q₁) - L₂⋅cos(q₁) + 0.8                  ⎥  ⎢          6.1\n",
       "                                                             ⎥  ⎢             \n",
       "             1.0                                             ⎦  ⎣             \n",
       "\n",
       "in(q₁) + 6.12323399573677e-17⋅cos(q₁)                   -6.12323399573677e-17⋅\n",
       "                                                                              \n",
       "464e-33⋅sin(q₁) - 6.12323399573677e-17⋅cos(q₁)  6.12323399573677e-17⋅sin(q₁) +\n",
       "                                                                              \n",
       "2323399573677e-17⋅sin(q₁) - cos(q₁)                     1.0⋅sin(q₁) + 6.123233\n",
       "                                                                              \n",
       "                0                                                            0\n",
       "\n",
       "sin(q₁) + 1.0⋅cos(q₁)          0           6.12323399573677e-17⋅L₁ + 6.1232339\n",
       "                                                                              \n",
       " 3.74939945665464e-33⋅cos(q₁)  0  -6.12323399573677e-17⋅L₁ - 6.12323399573677e\n",
       "                                                                              \n",
       "99573677e-17⋅cos(q₁)           0                              -L₁ - L₂⋅cos(q₁)\n",
       "                                                                              \n",
       "                               0                                              \n",
       "\n",
       "9573677e-17⋅L₂⋅cos(q₁) + 6.12323399573677e-17⋅L₃⋅cos(q₁) + 1.0⋅(L₂ + L₃)⋅sin(q\n",
       "                                                                              \n",
       "-17⋅L₂⋅cos(q₁) - 6.12323399573677e-17⋅L₃⋅cos(q₁) + 3.74939945665464e-33⋅(L₂ + \n",
       "                                                                              \n",
       " - L₃⋅cos(q₁) + 6.12323399573677e-17⋅(L₂ + L₃)⋅sin(q₁) + 0.8                  \n",
       "                                                                              \n",
       "                     1.0                                                      \n",
       "\n",
       "₁)         ⎤⎤\n",
       "           ⎥⎥\n",
       "L₃)⋅sin(q₁)⎥⎥\n",
       "           ⎥⎥\n",
       "           ⎥⎥\n",
       "           ⎥⎥\n",
       "           ⎦⎦"
      ]
     },
     "execution_count": 49,
     "metadata": {},
     "output_type": "execute_result"
    }
   ],
   "source": [
    "wH"
   ]
  },
  {
   "cell_type": "code",
   "execution_count": 50,
   "id": "63cd38e0",
   "metadata": {},
   "outputs": [
    {
     "data": {
      "application/vnd.jupyter.widget-view+json": {
       "model_id": "45b5d70f52b8494297243561b9171c9d",
       "version_major": 2,
       "version_minor": 0
      },
      "image/png": "[encoded data removed]",
      "text/html": [
       "\n",
       "            <div style=\"display: inline-block;\">\n",
       "                <div class=\"jupyter-widgets widget-label\" style=\"text-align: center;\">\n",
       "                    Figure\n",
       "                </div>\n",
       "                <img src='data:image/png;base64,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' width=640.0/>\n",
       "            </div>\n",
       "        "
      ],
      "text/plain": [
       "Canvas(toolbar=Toolbar(toolitems=[('Home', 'Reset original view', 'home', 'home'), ('Back', 'Back to previous …"
      ]
     },
     "metadata": {},
     "output_type": "display_data"
    }
   ],
   "source": [
    "# change the angles \n",
    "# change the angles \n",
    "H_list=[]\n",
    "H = s.lambdify((x),s.Matrix(H0_w),modules=\"numpy\")\n",
    "H_list.append(H(0))\n",
    "for wH_ in wH:\n",
    "    H = s.lambdify((q1,L1,L2,L3,pi),wH_,modules=\"numpy\")\n",
    "    L1_ = 0.32\n",
    "    L2_ = 0.32\n",
    "    L3_ = 0.07\n",
    "    q1_ = np.radians(90)\n",
    "    H_list.append(H(q1_,L1_,L2_,L3_,np.pi))    \n",
    "\n",
    "pu.plotTrans(H_list)"
   ]
  },
  {
   "cell_type": "code",
   "execution_count": 51,
   "id": "afb120c8",
   "metadata": {},
   "outputs": [
    {
     "data": {
      "text/plain": [
       "array([[ 6.12323400e-17,  1.00000000e+00,  0.00000000e+00,\n",
       "         0.00000000e+00],\n",
       "       [-6.12323400e-17,  3.74939946e-33,  0.00000000e+00,\n",
       "         0.00000000e+00],\n",
       "       [-1.00000000e+00,  6.12323400e-17,  0.00000000e+00,\n",
       "         8.00000000e-01],\n",
       "       [ 0.00000000e+00,  0.00000000e+00,  0.00000000e+00,\n",
       "         1.00000000e+00]])"
      ]
     },
     "execution_count": 51,
     "metadata": {},
     "output_type": "execute_result"
    }
   ],
   "source": [
    "H0_w"
   ]
  },
  {
   "cell_type": "markdown",
   "id": "1b37797f-7020-432a-85fc-3840c7827501",
   "metadata": {},
   "source": [
    "2. Calculate your DH table and homogeneous transformation to the center of mass. Assume the center of mass of the fore and upper arm are in the middle, and the center of mass of the hand is in the middle of the palm (same position as the end effector)"
   ]
  },
  {
   "cell_type": "code",
   "execution_count": 52,
   "id": "164688ae-fc18-4281-9b13-6854bf833bc0",
   "metadata": {},
   "outputs": [],
   "source": [
    "# calc Dcm \n",
    "L4 = L1 / 2\n",
    "L5 = L2 / 2\n",
    "L6 = L3 / 2\n",
    "    \n",
    "# DH Table [theta|d|a|alpha] \n",
    "Dcm = s.Matrix([[0,   0,  L4,  0], \\\n",
    "              [q1,   0,  L5,  0], \\\n",
    "              [0,   0,  L6,  0]])\n",
    "\n",
    "#relHcm[0] = H1cm_0\n",
    "#relHcm[1] = H2cm_1\n",
    "#relHcm[2] = H3cm_2\n",
    "relHcm = calcTransformation(Dcm)\n",
    "\n",
    "def calcTransformationAbsCM(absH,Hcm):\n",
    "    absHcm = []\n",
    "    for i in range (0,len(Hcm)):\n",
    "        if(i==0):\n",
    "            absHcm.append(Hcm[i])\n",
    "        else:\n",
    "            absH_tmp = absH[i-1]*Hcm[i] \n",
    "            absH_tmp=s.simplify(absH_tmp)\n",
    "            absHcm.append(absH_tmp)\n",
    "    return absHcm\n",
    "\n",
    "#absHcm[0] = H1cm_0\n",
    "#absHcm[1] = H2cm_0\n",
    "#absHcm[2] = H3cm_0\n",
    "absHcm = calcTransformationAbsCM(absH, relHcm)\n",
    "\n",
    "#wHcm[0] = H1cm_w\n",
    "#wHcm[1] = H2cm_w\n",
    "#wHcm[2] = H3cm_w\n",
    "wHcm = calcTransformationWorld(H0_w, absHcm)"
   ]
  },
  {
   "cell_type": "code",
   "execution_count": 53,
   "id": "21055353",
   "metadata": {},
   "outputs": [
    {
     "data": {
      "text/latex": [
       "$\\displaystyle \\left[ \\left[\\begin{matrix}1 & 0 & 0 & \\frac{L_{1}}{2}\\\\0 & 1 & 0 & 0\\\\0 & 0 & 1 & 0\\\\0 & 0 & 0 & 1\\end{matrix}\\right], \\  \\left[\\begin{matrix}\\cos{\\left(q_{1} \\right)} & - \\sin{\\left(q_{1} \\right)} & 0 & \\frac{L_{2} \\cos{\\left(q_{1} \\right)}}{2}\\\\\\sin{\\left(q_{1} \\right)} & \\cos{\\left(q_{1} \\right)} & 0 & \\frac{L_{2} \\sin{\\left(q_{1} \\right)}}{2}\\\\0 & 0 & 1 & 0\\\\0 & 0 & 0 & 1\\end{matrix}\\right], \\  \\left[\\begin{matrix}1 & 0 & 0 & \\frac{L_{3}}{2}\\\\0 & 1 & 0 & 0\\\\0 & 0 & 1 & 0\\\\0 & 0 & 0 & 1\\end{matrix}\\right]\\right]$"
      ],
      "text/plain": [
       "⎡               ⎡                      L₂⋅cos(q₁)⎤               ⎤\n",
       "⎢⎡         L₁⎤  ⎢cos(q₁)  -sin(q₁)  0  ──────────⎥  ⎡         L₃⎤⎥\n",
       "⎢⎢1  0  0  ──⎥  ⎢                          2     ⎥  ⎢1  0  0  ──⎥⎥\n",
       "⎢⎢         2 ⎥  ⎢                                ⎥  ⎢         2 ⎥⎥\n",
       "⎢⎢           ⎥  ⎢                      L₂⋅sin(q₁)⎥  ⎢           ⎥⎥\n",
       "⎢⎢0  1  0  0 ⎥, ⎢sin(q₁)  cos(q₁)   0  ──────────⎥, ⎢0  1  0  0 ⎥⎥\n",
       "⎢⎢           ⎥  ⎢                          2     ⎥  ⎢           ⎥⎥\n",
       "⎢⎢0  0  1  0 ⎥  ⎢                                ⎥  ⎢0  0  1  0 ⎥⎥\n",
       "⎢⎢           ⎥  ⎢   0        0      1      0     ⎥  ⎢           ⎥⎥\n",
       "⎢⎣0  0  0  1 ⎦  ⎢                                ⎥  ⎣0  0  0  1 ⎦⎥\n",
       "⎣               ⎣   0        0      0      1     ⎦               ⎦"
      ]
     },
     "execution_count": 53,
     "metadata": {},
     "output_type": "execute_result"
    }
   ],
   "source": [
    "relHcm"
   ]
  },
  {
   "cell_type": "code",
   "execution_count": 54,
   "id": "a10849cb",
   "metadata": {},
   "outputs": [
    {
     "data": {
      "text/latex": [
       "$\\displaystyle \\left[ \\left[\\begin{matrix}1 & 0 & 0 & \\frac{L_{1}}{2}\\\\0 & 1 & 0 & 0\\\\0 & 0 & 1 & 0\\\\0 & 0 & 0 & 1\\end{matrix}\\right], \\  \\left[\\begin{matrix}\\cos{\\left(q_{1} \\right)} & - \\sin{\\left(q_{1} \\right)} & 0 & L_{1} + \\frac{L_{2} \\cos{\\left(q_{1} \\right)}}{2}\\\\\\sin{\\left(q_{1} \\right)} & \\cos{\\left(q_{1} \\right)} & 0 & \\frac{L_{2} \\sin{\\left(q_{1} \\right)}}{2}\\\\0 & 0 & 1 & 0\\\\0 & 0 & 0 & 1\\end{matrix}\\right], \\  \\left[\\begin{matrix}\\cos{\\left(q_{1} \\right)} & - \\sin{\\left(q_{1} \\right)} & 0 & L_{1} + L_{2} \\cos{\\left(q_{1} \\right)} + \\frac{L_{3} \\cos{\\left(q_{1} \\right)}}{2}\\\\\\sin{\\left(q_{1} \\right)} & \\cos{\\left(q_{1} \\right)} & 0 & \\left(L_{2} + \\frac{L_{3}}{2}\\right) \\sin{\\left(q_{1} \\right)}\\\\0 & 0 & 1 & 0\\\\0 & 0 & 0 & 1\\end{matrix}\\right]\\right]$"
      ],
      "text/plain": [
       "⎡               ⎡                           L₂⋅cos(q₁)⎤  ⎡                    \n",
       "⎢⎡         L₁⎤  ⎢cos(q₁)  -sin(q₁)  0  L₁ + ──────────⎥  ⎢cos(q₁)  -sin(q₁)  0\n",
       "⎢⎢1  0  0  ──⎥  ⎢                               2     ⎥  ⎢                    \n",
       "⎢⎢         2 ⎥  ⎢                                     ⎥  ⎢                    \n",
       "⎢⎢           ⎥  ⎢                        L₂⋅sin(q₁)   ⎥  ⎢                    \n",
       "⎢⎢0  1  0  0 ⎥, ⎢sin(q₁)  cos(q₁)   0    ──────────   ⎥, ⎢sin(q₁)  cos(q₁)   0\n",
       "⎢⎢           ⎥  ⎢                            2        ⎥  ⎢                    \n",
       "⎢⎢0  0  1  0 ⎥  ⎢                                     ⎥  ⎢                    \n",
       "⎢⎢           ⎥  ⎢   0        0      1         0       ⎥  ⎢   0        0      1\n",
       "⎢⎣0  0  0  1 ⎦  ⎢                                     ⎥  ⎢                    \n",
       "⎣               ⎣   0        0      0         1       ⎦  ⎣   0        0      0\n",
       "\n",
       "                    L₃⋅cos(q₁)⎤⎤\n",
       "  L₁ + L₂⋅cos(q₁) + ──────────⎥⎥\n",
       "                        2     ⎥⎥\n",
       "                              ⎥⎥\n",
       "       ⎛     L₃⎞              ⎥⎥\n",
       "       ⎜L₂ + ──⎟⋅sin(q₁)      ⎥⎥\n",
       "       ⎝     2 ⎠              ⎥⎥\n",
       "                              ⎥⎥\n",
       "               0              ⎥⎥\n",
       "                              ⎥⎥\n",
       "               1              ⎦⎦"
      ]
     },
     "execution_count": 54,
     "metadata": {},
     "output_type": "execute_result"
    }
   ],
   "source": [
    "absHcm"
   ]
  },
  {
   "cell_type": "markdown",
   "id": "18aa4a72-1f8c-49d4-8bdb-d3b58dc9863a",
   "metadata": {},
   "source": [
    "# 3. Calculate your Jacobians for the end effector and each center of mass\n",
    "Calculate your Jacobians for the end effector and each center of mass. Since we are not actuating the wrist, for this tutorial, we will assume that the length and mass of the hand are contained in L2 and m2 respectively. Hence, our end effector frame is coordinate frame 2 instead of 3 like in the last tutorial."
   ]
  },
  {
   "cell_type": "code",
   "execution_count": 55,
   "id": "6033777a-4c88-4e4b-9312-0ef4ed91d022",
   "metadata": {
    "tags": []
   },
   "outputs": [
    {
     "name": "stdout",
     "output_type": "stream",
     "text": [
      "⎡-L₂⋅sin(q₁(t))⎤\n",
      "⎢              ⎥\n",
      "⎢L₂⋅cos(q₁(t)) ⎥\n",
      "⎢              ⎥\n",
      "⎢      0       ⎥\n",
      "⎢              ⎥\n",
      "⎢      0       ⎥\n",
      "⎢              ⎥\n",
      "⎢      0       ⎥\n",
      "⎢              ⎥\n",
      "⎣      1       ⎦\n",
      "⎡0 ⎤\n",
      "⎢  ⎥\n",
      "⎢L₁⎥\n",
      "⎢──⎥\n",
      "⎢2 ⎥\n",
      "⎢  ⎥\n",
      "⎢0 ⎥\n",
      "⎢  ⎥\n",
      "⎢0 ⎥\n",
      "⎢  ⎥\n",
      "⎢0 ⎥\n",
      "⎢  ⎥\n",
      "⎣1 ⎦\n",
      "⎡-L₂⋅sin(q₁(t)) ⎤\n",
      "⎢───────────────⎥\n",
      "⎢       2       ⎥\n",
      "⎢               ⎥\n",
      "⎢ L₂⋅cos(q₁(t)) ⎥\n",
      "⎢ ───────────── ⎥\n",
      "⎢       2       ⎥\n",
      "⎢               ⎥\n",
      "⎢       0       ⎥\n",
      "⎢               ⎥\n",
      "⎢       0       ⎥\n",
      "⎢               ⎥\n",
      "⎢       0       ⎥\n",
      "⎢               ⎥\n",
      "⎣       1       ⎦\n",
      "⎡-L₃⋅sin(q₁(t)) ⎤\n",
      "⎢───────────────⎥\n",
      "⎢       2       ⎥\n",
      "⎢               ⎥\n",
      "⎢ L₃⋅cos(q₁(t)) ⎥\n",
      "⎢ ───────────── ⎥\n",
      "⎢       2       ⎥\n",
      "⎢               ⎥\n",
      "⎢       0       ⎥\n",
      "⎢               ⎥\n",
      "⎢       0       ⎥\n",
      "⎢               ⎥\n",
      "⎢       0       ⎥\n",
      "⎢               ⎥\n",
      "⎣       1       ⎦\n"
     ]
    }
   ],
   "source": [
    "# absH of L1 w.r.t.the base coordinate frame.\n",
    "H1_0 = absH[0]\n",
    "# absH of L2 w.r.t.the base coordinate frame.\n",
    "H2_0 = absH[1]\n",
    "# absH of L3 w.r.t.the base coordinate frame.\n",
    "H3_0 = absH[2]\n",
    "###### rotation matrix of L1 w.r.t.the base coordinate frame. #####\n",
    "R1_0 = H1_0[0:3,0:3]\n",
    "###### rotation matrix of L2 w.r.t.the base coordinate frame. #####\n",
    "R2_0 = H2_0[0:3,0:3]\n",
    "###### Translation vector of L1 w.r.t.the base coordinate frame. #####\n",
    "t1_0 = H1_0[0:3,3]\n",
    "###### Translation vector of L2 w.r.t.the base coordinate frame. #####\n",
    "t2_0 = H2_0[0:3,3]\n",
    "###### z are axis of rotation #######\n",
    "z0 = s.Matrix([[0],[0],[1]])\n",
    "# z1 = R1_0*z0\n",
    "z1 = R1_0*z0 \n",
    "# z2 = R2_0*z0\n",
    "z2 = R2_0*z0 \n",
    "\n",
    "######Jacobian from L2(end effector) to shoulder (base) ######\n",
    "#[z1x(t2_0);z1].T\n",
    "J2_0 = s.simplify(s.Matrix([z1.cross(t2_0-t1_0),z1])) # for 1DOF \n",
    "s.pprint(J2_0)\n",
    "\n",
    "#########absH for centers of mass ########\n",
    "Hcm1_0 = absHcm[0]\n",
    "Hcm2_0 = absHcm[1]\n",
    "Hcm3_0 = absHcm[2]\n",
    "#########Translation vectors for absolute transformations of cm ########\n",
    "tcm1_0 = Hcm1_0[:3,-1]\n",
    "tcm2_0 = Hcm2_0[:3,-1]\n",
    "tcm3_0 = Hcm3_0[:3,-1]\n",
    "\n",
    "######## Jacobians for the centers of mass ########\n",
    "Jcm1_0 = s.simplify(s.Matrix([z0.cross(tcm1_0),z0]))\n",
    "s.pprint(Jcm1_0)\n",
    "Jcm2_0 = s.simplify(s.Matrix([z1.cross(tcm2_0-t1_0),z1]))\n",
    "s.pprint(Jcm2_0)\n",
    "Jcm3_0 = s.simplify(s.Matrix([z2.cross(tcm3_0-t2_0),z2]))\n",
    "s.pprint(Jcm3_0)"
   ]
  },
  {
   "cell_type": "code",
   "execution_count": 56,
   "id": "a4a47996-056c-475e-b9e3-fc70be52fe11",
   "metadata": {},
   "outputs": [
    {
     "data": {
      "text/latex": [
       "$\\displaystyle \\left[\\begin{matrix}- \\frac{L_{2} \\sin{\\left(q_{1} \\right)}}{2}\\\\\\frac{L_{2} \\cos{\\left(q_{1} \\right)}}{2}\\\\0\\\\0\\\\0\\\\1\\end{matrix}\\right]$"
      ],
      "text/plain": [
       "⎡-L₂⋅sin(q₁) ⎤\n",
       "⎢────────────⎥\n",
       "⎢     2      ⎥\n",
       "⎢            ⎥\n",
       "⎢ L₂⋅cos(q₁) ⎥\n",
       "⎢ ────────── ⎥\n",
       "⎢     2      ⎥\n",
       "⎢            ⎥\n",
       "⎢     0      ⎥\n",
       "⎢            ⎥\n",
       "⎢     0      ⎥\n",
       "⎢            ⎥\n",
       "⎢     0      ⎥\n",
       "⎢            ⎥\n",
       "⎣     1      ⎦"
      ]
     },
     "execution_count": 56,
     "metadata": {},
     "output_type": "execute_result"
    }
   ],
   "source": [
    "Jcm2_0"
   ]
  },
  {
   "cell_type": "code",
   "execution_count": 57,
   "id": "efe1d3e7-7aff-4ffd-8d92-72378ad60d0b",
   "metadata": {
    "tags": []
   },
   "outputs": [
    {
     "data": {
      "text/latex": [
       "$\\displaystyle \\left[\\begin{matrix}- L_{2} \\sin{\\left(q_{1} \\right)}\\\\L_{2} \\cos{\\left(q_{1} \\right)}\\\\0\\\\0\\\\0\\\\1\\end{matrix}\\right]$"
      ],
      "text/plain": [
       "⎡-L₂⋅sin(q₁)⎤\n",
       "⎢           ⎥\n",
       "⎢L₂⋅cos(q₁) ⎥\n",
       "⎢           ⎥\n",
       "⎢     0     ⎥\n",
       "⎢           ⎥\n",
       "⎢     0     ⎥\n",
       "⎢           ⎥\n",
       "⎢     0     ⎥\n",
       "⎢           ⎥\n",
       "⎣     1     ⎦"
      ]
     },
     "execution_count": 57,
     "metadata": {},
     "output_type": "execute_result"
    }
   ],
   "source": [
    "J2_0"
   ]
  },
  {
   "cell_type": "markdown",
   "id": "23a8c368-11bb-4f69-a0b3-941ea6ff846d",
   "metadata": {},
   "source": [
    "## Dynamic Model "
   ]
  },
  {
   "cell_type": "markdown",
   "id": "d035e99d-d3b2-43fc-9356-caa861ca864a",
   "metadata": {},
   "source": [
    "4. Compute the inertia matrix M(q)"
   ]
  },
  {
   "cell_type": "code",
   "execution_count": 58,
   "id": "2b6c1ac6-9537-45d0-840e-7bd257c52552",
   "metadata": {},
   "outputs": [
    {
     "data": {
      "text/latex": [
       "$\\displaystyle \\left[\\begin{matrix}I_{233} + \\frac{L_{2}^{2} m_{2}}{4}\\end{matrix}\\right]$"
      ],
      "text/plain": [
       "⎡         2   ⎤\n",
       "⎢       L₂ ⋅m₂⎥\n",
       "⎢I₂₃₃ + ──────⎥\n",
       "⎣         4   ⎦"
      ]
     },
     "execution_count": 58,
     "metadata": {},
     "output_type": "execute_result"
    }
   ],
   "source": [
    "m1,m2,m3= s.symbols('m1 m2 m3', real=True)\n",
    "I111,I122,I133= s.symbols('I111 I122 I133', real=True)\n",
    "I211,I222,I233= s.symbols('I211 I222 I233', real=True)\n",
    "I311,I322,I333= s.symbols('I311 I322 I333', real=True)\n",
    "\n",
    "Icm1 = s.Matrix([[I111,0,0],\n",
    "                 [0,I122,0],\n",
    "                 [0,0,I133]])\n",
    "\n",
    "Icm2 = s.Matrix([[I211,0,0],\n",
    "                 [0,I222,0],\n",
    "                 [0,0,I233]])\n",
    "\n",
    "Icm3 = s.Matrix([[I311,0,0],\n",
    "                 [0,I322,0],\n",
    "                 [0,0,I333]])\n",
    "\n",
    "# M = s.simplify()\n",
    "Jcm2_0_v = Jcm2_0[0:3,:]\n",
    "Jcm2_0_w = Jcm2_0[3:6,:]\n",
    "\n",
    "# Jcm3_0_v = Jcm3_0[0:3,:]\n",
    "# Jcm3_0_w = Jcm3_0[3:6,:]\n",
    "\n",
    "# Rcm_1 = absHcm[0][0:3,0:3]\n",
    "Rcm_2 = absHcm[0][0:3,0:3]\n",
    "# Rcm_3 = absHcm[0][0:3,0:3]\n",
    "\n",
    "# M1 = m1*Jcm1_0_v.T*Jcm1_0_v + Jcm1_0_w.T*Rcm_1*Icm1*Rcm_1.T*Jcm1_0_w\n",
    "M2 = m2*Jcm2_0_v.T*Jcm2_0_v + Jcm2_0_w.T*Rcm_2*Icm2*Rcm_2.T*Jcm2_0_w\n",
    "# M3 = m3*Jcm3_0_v.T*Jcm3_0_v + Jcm3_0_w.T*Rcm_3*Icm3*Rcm_3.T*Jcm3_0_w\n",
    "\n",
    "M = s.simplify(M2)\n",
    "M # L2^2 /4 + I233"
   ]
  },
  {
   "cell_type": "markdown",
   "id": "5d53228c-050b-4f7a-a73a-cdc2a0105f3d",
   "metadata": {},
   "source": [
    "5. Compute the maxtrix of Coriolis and Centripetal effects"
   ]
  },
  {
   "cell_type": "code",
   "execution_count": 59,
   "id": "2924931e-7c47-4d9c-b93f-1e957751c9ce",
   "metadata": {
    "tags": []
   },
   "outputs": [
    {
     "data": {
      "text/latex": [
       "$\\displaystyle \\left[\\begin{matrix}0\\end{matrix}\\right]$"
      ],
      "text/plain": [
       "[0]"
      ]
     },
     "execution_count": 59,
     "metadata": {},
     "output_type": "execute_result"
    }
   ],
   "source": [
    "C = s.simplify(1/2 * (M.diff(q1)) * q1.diff())\n",
    "C"
   ]
  },
  {
   "cell_type": "markdown",
   "id": "d47861f4-49f4-4ea3-929b-27523f829680",
   "metadata": {},
   "source": [
    "6. Compute the vector of graviational torques G(q)"
   ]
  },
  {
   "cell_type": "code",
   "execution_count": 60,
   "id": "4bdb6ba2-936c-46a2-9799-57a004709f1a",
   "metadata": {},
   "outputs": [
    {
     "data": {
      "text/latex": [
       "$\\displaystyle \\left[\\begin{matrix}- \\frac{L_{2} gx m_{2} \\sin{\\left(q_{1} \\right)}}{2} + \\frac{L_{2} gy m_{2} \\cos{\\left(q_{1} \\right)}}{2} - 1.0 k_{1} \\left(\\theta_{1} - q_{1}\\right)\\end{matrix}\\right]$"
      ],
      "text/plain": [
       "⎡  L₂⋅gx⋅m₂⋅sin(q₁)   L₂⋅gy⋅m₂⋅cos(q₁)               ⎤\n",
       "⎢- ──────────────── + ──────────────── - k₁⋅(θ₁ - q₁)⎥\n",
       "⎣         2                  2                       ⎦"
      ]
     },
     "execution_count": 60,
     "metadata": {},
     "output_type": "execute_result"
    }
   ],
   "source": [
    "g,gx,gy,gz = s.symbols('g gx gy gz', real=True)\n",
    "gVector = s.Matrix([[gx],[gy],[gz]])\n",
    "k1,theta1,b1 = s.symbols('k1 theta1 b1', real=True)\n",
    "\n",
    "P = 0\n",
    "G = 0\n",
    "P =  m2*gVector.T*tcm2_0 + s.Matrix([1 / 2 * k1 * (theta1 - q1) ** 2])\n",
    "G = P.diff(q1)    \n",
    "G = s.simplify(G)\n",
    "G"
   ]
  },
  {
   "cell_type": "markdown",
   "id": "5508f060-7cd5-4200-aa89-637e41124128",
   "metadata": {},
   "source": [
    "7. Calculate B vector "
   ]
  },
  {
   "cell_type": "code",
   "execution_count": 61,
   "id": "13a648a4-e698-446a-990b-9fbb09c33c12",
   "metadata": {},
   "outputs": [
    {
     "data": {
      "image/png": "[encoded data removed]",
      "text/latex": [
       "$\\displaystyle b_{1} \\dot{q}_{1}$"
      ],
      "text/plain": [
       "b₁⋅q₁̇"
      ]
     },
     "execution_count": 61,
     "metadata": {},
     "output_type": "execute_result"
    }
   ],
   "source": [
    "D = 0\n",
    "B = s.zeros(1,1)\n",
    "D = b1 * q1.diff()**2 / 2\n",
    "B = s.simplify(D.diff(q1.diff()))\n",
    "B "
   ]
  },
  {
   "cell_type": "markdown",
   "id": "6e5e8115-8f7e-4f25-bdbc-dabddf783f1b",
   "metadata": {},
   "source": [
    "Let's move now to our ros w_s "
   ]
  }
 ],
 "metadata": {
  "kernelspec": {
   "display_name": "Python 3.8.10 64-bit",
   "language": "python",
   "name": "python3"
  },
  "language_info": {
   "codemirror_mode": {
    "name": "ipython",
    "version": 3
   },
   "file_extension": ".py",
   "mimetype": "text/x-python",
   "name": "python",
   "nbconvert_exporter": "python",
   "pygments_lexer": "ipython3",
   "version": "3.8.10"
  },
  "vscode": {
   "interpreter": {
    "hash": "916dbcbb3f70747c44a77c7bcd40155683ae19c65e1c03b4aa3499c5328201f1"
   }
  }
 },
 "nbformat": 4,
 "nbformat_minor": 5
}
